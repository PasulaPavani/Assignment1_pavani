{
  "nbformat": 4,
  "nbformat_minor": 0,
  "metadata": {
    "kernelspec": {
      "display_name": "Python 3",
      "language": "python",
      "name": "python3"
    },
    "language_info": {
      "codemirror_mode": {
        "name": "ipython",
        "version": 3
      },
      "file_extension": ".py",
      "mimetype": "text/x-python",
      "name": "python",
      "nbconvert_exporter": "python",
      "pygments_lexer": "ipython3",
      "version": "3.7.3"
    },
    "learntools_metadata": {
      "lesson_index": 0,
      "type": "exercise"
    },
    "colab": {
      "name": "Ex1.ipynb",
      "provenance": [],
      "include_colab_link": true
    }
  },
  "cells": [
    {
      "cell_type": "markdown",
      "metadata": {
        "id": "view-in-github",
        "colab_type": "text"
      },
      "source": [
        "<a href=\"https://colab.research.google.com/github/PasulaPavani/Assignment1_pavani/blob/main/Ex1.ipynb\" target=\"_parent\"><img src=\"https://colab.research.google.com/assets/colab-badge.svg\" alt=\"Open In Colab\"/></a>"
      ]
    },
    {
      "cell_type": "markdown",
      "metadata": {
        "id": "wutQYUgyjA4M"
      },
      "source": [
        "Notebooks are composed of blocks (called \"cells\") of text and code. Each of these is editable, though you'll mainly be editing the code cells to answer some questions.\n",
        "\n",
        "To get started, try running the code cell below (by pressing the ► button, or clicking on the cell and pressing ctrl+enter on your keyboard)."
      ]
    },
    {
      "cell_type": "code",
      "metadata": {
        "id": "xT87rkUajA4W",
        "colab": {
          "base_uri": "https://localhost:8080/"
        },
        "outputId": "370a7281-41c0-428d-c94c-32b5b8e5bb98"
      },
      "source": [
        "print(\"You've successfully run some Python code\")\n",
        "print(\"Congratulations!\")"
      ],
      "execution_count": null,
      "outputs": [
        {
          "output_type": "stream",
          "name": "stdout",
          "text": [
            "You've successfully run some Python code\n",
            "Congratulations!\n"
          ]
        }
      ]
    },
    {
      "cell_type": "code",
      "metadata": {
        "colab": {
          "base_uri": "https://localhost:8080/"
        },
        "id": "Dl-cEClgk9HW",
        "outputId": "1d411340-2e21-44b5-d0d2-e6326fa7dbd0"
      },
      "source": [
        "!pip install git+https://github.com/ML-Challenge/learntools.git\n",
        "\n",
        "from learntools.core import binder; binder.bind(globals())\n",
        "from learntools.python.ex1 import *\n",
        "print(\"setup complete\")"
      ],
      "execution_count": null,
      "outputs": [
        {
          "output_type": "stream",
          "name": "stdout",
          "text": [
            "Collecting git+https://github.com/ML-Challenge/learntools.git\n",
            "  Cloning https://github.com/ML-Challenge/learntools.git to /tmp/pip-req-build-uqw_bdwa\n",
            "  Running command git clone -q https://github.com/ML-Challenge/learntools.git /tmp/pip-req-build-uqw_bdwa\n",
            "Building wheels for collected packages: learntools\n",
            "  Building wheel for learntools (setup.py) ... \u001b[?25l\u001b[?25hdone\n",
            "  Created wheel for learntools: filename=learntools-0.3.4-py3-none-any.whl size=207310 sha256=e4895d44322461882a1554a0d2fd7a17532ace225fb55e15126fbbdae987a829\n",
            "  Stored in directory: /tmp/pip-ephem-wheel-cache-wu86jp57/wheels/5e/42/53/aa3198486cfc460e19152f9f799b8d0f549cb88f492acb6033\n",
            "Successfully built learntools\n",
            "Installing collected packages: learntools\n",
            "Successfully installed learntools-0.3.4\n",
            "setup complete\n"
          ]
        }
      ]
    },
    {
      "cell_type": "markdown",
      "metadata": {
        "id": "iKjcofd1jA4Y"
      },
      "source": [
        "# Setup for running exercise\n",
        "\n",
        "1. Download learntools-master by clicking [here](https://drive.google.com/file/d/1aZx9Lk1nvSwqqxyPEYnaiHhbJ40FMkew/view?usp=sharing)\n",
        "2. Extract the zip in the same folder you are running this notebook\n",
        "3. Right Click the zip and select 7-zip --> Extract Here\n",
        "4. Copy the \"learntools\" folder to C:\\ProgramData\\Anaconda3\\Lib\\site-packages (*tip: ProgramData folder is hidden)"
      ]
    },
    {
      "cell_type": "markdown",
      "metadata": {
        "id": "_wSkaDWhjA4Z"
      },
      "source": [
        "Try adding another line of code in the cell above and re-running it. \n",
        "\n",
        "Now let's get a little fancier:  Add a new code cell by clicking on an existing code cell, hitting the escape key, and then hitting the `a` or `b` key.  The `a` key will add a cell above the current cell, and `b` adds a cell below.\n",
        "\n",
        "Great! Now you know how to use Notebooks.\n",
        "\n",
        "Each hands-on exercise starts by setting up our feedback and code checking mechanism. Run the code cell below to do that. Then you'll be ready to move on to question 0."
      ]
    },
    {
      "cell_type": "code",
      "metadata": {
        "_kg_hide-input": true,
        "_kg_hide-output": true,
        "id": "uJdvgBhTjA4b",
        "colab": {
          "base_uri": "https://localhost:8080/"
        },
        "outputId": "024d1760-45c4-4128-c733-f11327bf5f98"
      },
      "source": [
        "from learntools.core import binder; binder.bind(globals())\n",
        "from learntools.python.ex1 import *\n",
        "print(\"Setup complete! You're ready to start question 0.\")"
      ],
      "execution_count": null,
      "outputs": [
        {
          "output_type": "stream",
          "name": "stderr",
          "text": [
            "WARNING:root:Ignoring repeated attempt to bind to globals\n"
          ]
        },
        {
          "output_type": "stream",
          "name": "stdout",
          "text": [
            "Setup complete! You're ready to start question 0.\n"
          ]
        }
      ]
    },
    {
      "cell_type": "markdown",
      "metadata": {
        "id": "GgkyM20IjA4c"
      },
      "source": [
        "# 0.\n",
        "\n",
        "*This is a silly question intended as an introduction to the format we use for hands-on exercises throughout this course.*\n",
        "\n",
        "**What is your favorite color? **\n",
        "\n",
        "To complete this question, create a variable called `color` in the cell below with an appropriate value. The function call `q0.check()` (which we've already provided in the cell below) will check your answer."
      ]
    },
    {
      "cell_type": "code",
      "metadata": {
        "id": "y2xEqN4KjA4e",
        "colab": {
          "base_uri": "https://localhost:8080/",
          "height": 63
        },
        "outputId": "6f44ad74-f88a-4e52-dd2e-193f1db21217"
      },
      "source": [
        "# create a variable called color with an appropriate value on the line below\n",
        "color=\"blue\"\n",
        "# (Remember, strings in Python must be enclosed in 'single' or \"double\" quotes)\n",
        "print(\"My favourite color is:\",color)\n",
        "\n",
        "\n",
        "# *Write you answer here*\n",
        "\n",
        "# Check your answer\n",
        "q0.check()"
      ],
      "execution_count": null,
      "outputs": [
        {
          "output_type": "stream",
          "name": "stdout",
          "text": [
            "My favourite color is: blue\n"
          ]
        },
        {
          "output_type": "display_data",
          "data": {
            "application/javascript": [
              "parent.postMessage({\"jupyterEvent\": \"custom.exercise_interaction\", \"data\": {\"outcomeType\": 1, \"valueTowardsCompletion\": 0.25, \"interactionType\": 1, \"questionType\": 1, \"questionId\": \"0_ExerciseFormatTutorial\", \"learnToolsVersion\": \"0.3.4\", \"failureMessage\": \"\", \"exceptionClass\": \"\", \"trace\": \"\"}}, \"*\")"
            ],
            "text/plain": [
              "<IPython.core.display.Javascript object>"
            ]
          },
          "metadata": {}
        },
        {
          "output_type": "display_data",
          "data": {
            "text/markdown": "<span style=\"color:#33cc33\">Correct</span>",
            "text/plain": [
              "Correct"
            ]
          },
          "metadata": {}
        }
      ]
    },
    {
      "cell_type": "markdown",
      "metadata": {
        "id": "sfLxo5lpjA4h"
      },
      "source": [
        "Didn't get the right answer? How do you not even know your own favorite color?!\n",
        "\n",
        "Delete the `#` in the line below to make one of the lines run. You can choose between getting a hint or the full answer by choosing which line to remove the `#` from. \n",
        "\n",
        "Removing the `#` is called uncommenting, because it changes that line from a \"comment\" which Python doesn't run to code, which Python does run."
      ]
    },
    {
      "cell_type": "code",
      "metadata": {
        "id": "dEepBIbPjA4j"
      },
      "source": [
        "#q0.hint()\n",
        "#q0.solution()"
      ],
      "execution_count": null,
      "outputs": []
    },
    {
      "cell_type": "markdown",
      "metadata": {
        "id": "0mlR7FNWjA4l"
      },
      "source": [
        "The upcoming questions work the same way. The only thing that will change are the question numbers. For the next question, you'll call `q1.check()`, `q1.hint()`, `q1.solution()`, for question 2, you'll call `q2.check()`, and so on."
      ]
    },
    {
      "cell_type": "markdown",
      "metadata": {
        "id": "OEjzX9W8jA4n"
      },
      "source": [
        "<hr/>\n",
        "\n",
        "# 1.\n",
        "\n",
        "Complete the code below. In case it's helpful, here is the table of available arithmetic operations:\n",
        "\n",
        "\n",
        "\n",
        "| Operator     | Name           | Description                                            |\n",
        "|--------------|----------------|--------------------------------------------------------|\n",
        "| ``a + b``    | Addition       | Sum of ``a`` and ``b``                                 |\n",
        "| ``a - b``    | Subtraction    | Difference of ``a`` and ``b``                          |\n",
        "| ``a * b``    | Multiplication | Product of ``a`` and ``b``                             |\n",
        "| ``a / b``    | True division  | Quotient of ``a`` and ``b``                            |\n",
        "| ``a // b``   | Floor division | Quotient of ``a`` and ``b``, removing fractional parts |\n",
        "| ``a % b``    | Modulus        | Integer remainder after division of ``a`` by ``b``     |\n",
        "| ``a ** b``   | Exponentiation | ``a`` raised to the power of ``b``                     |\n",
        "| ``-a``       | Negation       | The negative of ``a``                                  |\n",
        "\n",
        "<span style=\"display:none\"></span>\n"
      ]
    },
    {
      "cell_type": "code",
      "metadata": {
        "id": "h4iPEar9jA4p",
        "colab": {
          "base_uri": "https://localhost:8080/",
          "height": 63
        },
        "outputId": "ac09cb6e-181a-46b8-b5a1-6291ea7cce2b"
      },
      "source": [
        "pi = 3.14159 # approximate\n",
        "diameter = 3\n",
        "\n",
        "# Create a variable called 'radius' equal to half the diameter\n",
        "radius=diameter/2\n",
        "\n",
        "\n",
        "# Create a variable called 'area', using the formula for the area of a circle: pi times the radius squared\n",
        "area=pi*radius*radius\n",
        "print(\"Area=\",area,\"radius=\",radius)\n",
        "\n",
        "\n",
        "# Check your answer\n",
        "q1.check()"
      ],
      "execution_count": null,
      "outputs": [
        {
          "output_type": "stream",
          "name": "stdout",
          "text": [
            "Area= 7.068577499999999 radius= 1.5\n"
          ]
        },
        {
          "output_type": "display_data",
          "data": {
            "application/javascript": [
              "parent.postMessage({\"jupyterEvent\": \"custom.exercise_interaction\", \"data\": {\"outcomeType\": 1, \"valueTowardsCompletion\": 0.25, \"interactionType\": 1, \"questionType\": 1, \"questionId\": \"1_CircleArea\", \"learnToolsVersion\": \"0.3.4\", \"failureMessage\": \"\", \"exceptionClass\": \"\", \"trace\": \"\"}}, \"*\")"
            ],
            "text/plain": [
              "<IPython.core.display.Javascript object>"
            ]
          },
          "metadata": {}
        },
        {
          "output_type": "display_data",
          "data": {
            "text/markdown": "<span style=\"color:#33cc33\">Correct</span>",
            "text/plain": [
              "Correct"
            ]
          },
          "metadata": {}
        }
      ]
    },
    {
      "cell_type": "code",
      "metadata": {
        "id": "TiDBW9mpjA4q"
      },
      "source": [
        "# Uncomment and run the lines below if you need help.\n",
        "# q1.hint()\n",
        "# q1.solution()"
      ],
      "execution_count": null,
      "outputs": []
    },
    {
      "cell_type": "markdown",
      "metadata": {
        "id": "RSg4_ZBcjA4r"
      },
      "source": [
        "<hr/>\n",
        "\n",
        "# 2.\n",
        "\n",
        "Add code to the following cell to swap variables `a` and `b` (so that `a` refers to the object previously referred to by `b` and vice versa)."
      ]
    },
    {
      "cell_type": "code",
      "metadata": {
        "id": "PdnhHwIFjA4s",
        "colab": {
          "base_uri": "https://localhost:8080/",
          "height": 212
        },
        "outputId": "1455481a-1ea7-4f35-e024-6d69115a1c2e"
      },
      "source": [
        "########### Setup code - don't touch this part ######################\n",
        "# If you're curious, these are examples of lists. We'll talk about \n",
        "# them in depth a few lessons from now. For now, just know that they're\n",
        "# yet another type of Python object, like int or float.\n",
        "a = [1, 2, 3]\n",
        "b = [3, 2, 1]\n",
        "q2.store_original_ids()\n",
        "######################################################################\n",
        "\n",
        "# Your code goes here. Swap the values to which a and b refer.\n",
        "# If you get stuck, you can always uncomment one or both of the lines in\n",
        "# the next cell for a hint, or to peek at the solution.\n",
        "a,b=b,a\n",
        "print(a,b,sep='/')\n",
        "\n",
        "######################################################################\n",
        "\n",
        "# Check your answer\n",
        "q2.check()"
      ],
      "execution_count": null,
      "outputs": [
        {
          "output_type": "stream",
          "name": "stdout",
          "text": [
            "[3, 2, 1]/[1, 2, 3]\n"
          ]
        },
        {
          "output_type": "display_data",
          "data": {
            "application/javascript": [
              "parent.postMessage({\"jupyterEvent\": \"custom.exercise_interaction\", \"data\": {\"outcomeType\": 1, \"valueTowardsCompletion\": 0.25, \"interactionType\": 1, \"questionType\": 2, \"questionId\": \"2_VariableSwap\", \"learnToolsVersion\": \"0.3.4\", \"failureMessage\": \"\", \"exceptionClass\": \"\", \"trace\": \"\"}}, \"*\")"
            ],
            "text/plain": [
              "<IPython.core.display.Javascript object>"
            ]
          },
          "metadata": {}
        },
        {
          "output_type": "display_data",
          "data": {
            "text/markdown": "<span style=\"color:#33cc33\">Correct:</span> \n\nThe most straightforward solution is to use a third variable to temporarily store one of the old values. e.g.:\n\n    tmp = a\n    a = b\n    b = tmp\n\nIf you've read lots of Python code, you might have seen the following trick to swap two variables in one line:\n\n    a, b = b, a\n\nWe'll demystify this bit of Python magic later when we talk about *tuples*.",
            "text/plain": [
              "Correct: \n",
              "\n",
              "The most straightforward solution is to use a third variable to temporarily store one of the old values. e.g.:\n",
              "\n",
              "    tmp = a\n",
              "    a = b\n",
              "    b = tmp\n",
              "\n",
              "If you've read lots of Python code, you might have seen the following trick to swap two variables in one line:\n",
              "\n",
              "    a, b = b, a\n",
              "\n",
              "We'll demystify this bit of Python magic later when we talk about *tuples*."
            ]
          },
          "metadata": {}
        }
      ]
    },
    {
      "cell_type": "code",
      "metadata": {
        "id": "uIp_rEWcjA4t"
      },
      "source": [
        "#q2.hint()"
      ],
      "execution_count": null,
      "outputs": []
    },
    {
      "cell_type": "code",
      "metadata": {
        "id": "a0QuWcGWjA4t"
      },
      "source": [
        "#q2.solution()"
      ],
      "execution_count": null,
      "outputs": []
    },
    {
      "cell_type": "markdown",
      "metadata": {
        "id": "xMXAGc4wjA4u"
      },
      "source": [
        "<hr/>\n",
        "\n",
        "# 3a.\n",
        "\n",
        "Add parentheses to the following expression so that it evaluates to 1."
      ]
    },
    {
      "cell_type": "code",
      "metadata": {
        "id": "cHmydZlRjA4u",
        "colab": {
          "base_uri": "https://localhost:8080/"
        },
        "outputId": "e55c1738-e0c1-4cef-bc74-d71635727c67"
      },
      "source": [
        "(5 - 3) // 2"
      ],
      "execution_count": null,
      "outputs": [
        {
          "output_type": "execute_result",
          "data": {
            "text/plain": [
              "1"
            ]
          },
          "metadata": {},
          "execution_count": 9
        }
      ]
    },
    {
      "cell_type": "code",
      "metadata": {
        "id": "F839vZB7jA4v"
      },
      "source": [
        "#q3.a.hint()"
      ],
      "execution_count": null,
      "outputs": []
    },
    {
      "cell_type": "code",
      "metadata": {
        "id": "oMqmpuIAjA4w"
      },
      "source": [
        "# Check your answer (Run this code cell to receive credit!)\n",
        "#q3.a.solution()"
      ],
      "execution_count": null,
      "outputs": []
    },
    {
      "cell_type": "markdown",
      "metadata": {
        "id": "bdeTj2AajA4w"
      },
      "source": [
        "# 3b.  <span title=\"A bit spicy\" style=\"color: darkgreen \">🌶️</span>\n",
        "\n",
        "<small>Questions, like this one, marked a spicy pepper are a bit harder.</small>\n",
        "\n",
        "Add parentheses to the following expression so that it evaluates to 0."
      ]
    },
    {
      "cell_type": "code",
      "metadata": {
        "id": "ZI5SAy3vjA4x",
        "colab": {
          "base_uri": "https://localhost:8080/"
        },
        "outputId": "1fbc0d0a-00ce-471a-d52f-ad0e54e05a75"
      },
      "source": [
        "(8 - 3) * (2 - (1 + 1))"
      ],
      "execution_count": null,
      "outputs": [
        {
          "output_type": "execute_result",
          "data": {
            "text/plain": [
              "0"
            ]
          },
          "metadata": {},
          "execution_count": 10
        }
      ]
    },
    {
      "cell_type": "code",
      "metadata": {
        "id": "b9SZX2uSjA4y"
      },
      "source": [
        "#q3.b.hint()"
      ],
      "execution_count": null,
      "outputs": []
    },
    {
      "cell_type": "code",
      "metadata": {
        "id": "_T2fF1hXjA4y"
      },
      "source": [
        "# Check your answer (Run this code cell to receive credit!)\n",
        "#q3.b.solution()"
      ],
      "execution_count": null,
      "outputs": []
    },
    {
      "cell_type": "markdown",
      "metadata": {
        "id": "ODe5AFpLjA4y"
      },
      "source": [
        "<hr/>\n",
        "\n",
        "# 4. \n",
        "Alice, Bob and Carol have agreed to pool their Halloween candy and split it evenly among themselves.\n",
        "For the sake of their friendship, any candies left over will be smashed. For example, if they collectively\n",
        "bring home 91 candies, they'll take 30 each and smash 1.\n",
        "\n",
        "Write an arithmetic expression below to calculate how many candies they must smash for a given haul."
      ]
    },
    {
      "cell_type": "code",
      "metadata": {
        "id": "zTdGVg-FjA4z",
        "colab": {
          "base_uri": "https://localhost:8080/",
          "height": 63
        },
        "outputId": "5f44da24-fc1b-4eb7-ce28-00ca481d11cb"
      },
      "source": [
        "# Variables representing the number of candies collected by alice, bob, and carol\n",
        "alice_candies = 121\n",
        "bob_candies = 77\n",
        "carol_candies = 109\n",
        "\n",
        "# Your code goes here! Replace the right-hand side of this assignment with an expression\n",
        "# involving alice_candies, bob_candies, and carol_candies\n",
        "total_candies=alice_candies+bob_candies+carol_candies\n",
        "to_smash=total_candies%3\n",
        "to_smash = -1\n",
        "print(\"to smash=\",to_smash,\"total candies=\",total_candies)\n",
        "\n",
        "# Check your answer\n",
        "q4.check()"
      ],
      "execution_count": null,
      "outputs": [
        {
          "output_type": "stream",
          "name": "stdout",
          "text": [
            "to smash= -1 total candies= 307\n"
          ]
        },
        {
          "output_type": "display_data",
          "data": {
            "application/javascript": [
              "parent.postMessage({\"jupyterEvent\": \"custom.exercise_interaction\", \"data\": {\"outcomeType\": 4, \"interactionType\": 1, \"questionType\": 1, \"questionId\": \"4_CandySplitting\", \"learnToolsVersion\": \"0.3.4\", \"valueTowardsCompletion\": 0.0, \"failureMessage\": \"\", \"exceptionClass\": \"\", \"trace\": \"\"}}, \"*\")"
            ],
            "text/plain": [
              "<IPython.core.display.Javascript object>"
            ]
          },
          "metadata": {}
        },
        {
          "output_type": "display_data",
          "data": {
            "text/markdown": "<span style=\"color:#ccaa33\">Check:</span> When you've updated the starter code, `check()` will tell you whether your code is correct. You need to update the code that creates variable `to_smash`",
            "text/plain": [
              "Check: When you've updated the starter code, `check()` will tell you whether your code is correct. You need to update the code that creates variable `to_smash`"
            ]
          },
          "metadata": {}
        }
      ]
    },
    {
      "cell_type": "code",
      "metadata": {
        "id": "PRtHYycSjA4z"
      },
      "source": [
        "#q4.hint()\n",
        "#q4.solution()"
      ],
      "execution_count": null,
      "outputs": []
    }
  ]
}