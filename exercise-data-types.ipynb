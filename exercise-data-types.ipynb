{
 "cells": [
  {
   "cell_type": "markdown",
   "id": "92b1cbff",
   "metadata": {
    "papermill": {
     "duration": 0.007511,
     "end_time": "2022-10-21T05:41:23.110068",
     "exception": false,
     "start_time": "2022-10-21T05:41:23.102557",
     "status": "completed"
    },
    "tags": []
   },
   "source": [
    "**This notebook is an exercise in the [Intro to Programming](https://www.kaggle.com/learn/intro-to-programming) course.  You can reference the tutorial at [this link](https://www.kaggle.com/alexisbcook/data-types).**\n",
    "\n",
    "---\n"
   ]
  },
  {
   "cell_type": "markdown",
   "id": "d05f0813",
   "metadata": {
    "papermill": {
     "duration": 0.005979,
     "end_time": "2022-10-21T05:41:23.122414",
     "exception": false,
     "start_time": "2022-10-21T05:41:23.116435",
     "status": "completed"
    },
    "tags": []
   },
   "source": [
    "In the tutorial, you learned about four different data types: floats, integers, strings, and booleans.  In this exercise, you'll experiment with them.\n",
    "\n",
    "# Set up the notebook\n",
    "\n",
    "Run the next code cell without changes to set up the notebook."
   ]
  },
  {
   "cell_type": "code",
   "execution_count": 1,
   "id": "92a1e538",
   "metadata": {
    "execution": {
     "iopub.execute_input": "2022-10-21T05:41:23.137130Z",
     "iopub.status.busy": "2022-10-21T05:41:23.136350Z",
     "iopub.status.idle": "2022-10-21T05:41:23.184723Z",
     "shell.execute_reply": "2022-10-21T05:41:23.183653Z"
    },
    "papermill": {
     "duration": 0.058738,
     "end_time": "2022-10-21T05:41:23.187381",
     "exception": false,
     "start_time": "2022-10-21T05:41:23.128643",
     "status": "completed"
    },
    "tags": []
   },
   "outputs": [
    {
     "name": "stdout",
     "output_type": "stream",
     "text": [
      "Setup complete.\n"
     ]
    }
   ],
   "source": [
    "# Set up the exercise\n",
    "from learntools.core import binder\n",
    "binder.bind(globals())\n",
    "from learntools.intro_to_programming.ex3 import *\n",
    "print('Setup complete.')"
   ]
  },
  {
   "cell_type": "markdown",
   "id": "5a860352",
   "metadata": {
    "papermill": {
     "duration": 0.005952,
     "end_time": "2022-10-21T05:41:23.199666",
     "exception": false,
     "start_time": "2022-10-21T05:41:23.193714",
     "status": "completed"
    },
    "tags": []
   },
   "source": [
    "# Question 1\n",
    "\n",
    "You have seen how to convert a float to an integer with the `int` function.  Try this out yourself by running the code cell below."
   ]
  },
  {
   "cell_type": "code",
   "execution_count": 2,
   "id": "2dc96dc8",
   "metadata": {
    "execution": {
     "iopub.execute_input": "2022-10-21T05:41:23.213537Z",
     "iopub.status.busy": "2022-10-21T05:41:23.213064Z",
     "iopub.status.idle": "2022-10-21T05:41:23.218772Z",
     "shell.execute_reply": "2022-10-21T05:41:23.217708Z"
    },
    "papermill": {
     "duration": 0.015489,
     "end_time": "2022-10-21T05:41:23.221142",
     "exception": false,
     "start_time": "2022-10-21T05:41:23.205653",
     "status": "completed"
    },
    "tags": []
   },
   "outputs": [
    {
     "name": "stdout",
     "output_type": "stream",
     "text": [
      "1.0\n",
      "<class 'float'>\n",
      "1\n",
      "<class 'int'>\n"
     ]
    }
   ],
   "source": [
    "# Define a float\n",
    "y = 1.\n",
    "print(y)\n",
    "print(type(y))\n",
    "\n",
    "# Convert float to integer with the int function\n",
    "z = int(y)\n",
    "print(z)\n",
    "print(type(z))"
   ]
  },
  {
   "cell_type": "markdown",
   "id": "8bc2e3e9",
   "metadata": {
    "papermill": {
     "duration": 0.006193,
     "end_time": "2022-10-21T05:41:23.233832",
     "exception": false,
     "start_time": "2022-10-21T05:41:23.227639",
     "status": "completed"
    },
    "tags": []
   },
   "source": [
    "In this case, the float you are using has no numbers after the decimal.  \n",
    "- But what happens when you try to convert a float with a fractional part to an integer?  \n",
    "- How does the outcome of the `int` function change for positive and negative numbers?\n",
    "\n",
    "Use the next code cell to investigate and answer these questions.  Feel free to add or remove any lines of code -- it is your workspace!"
   ]
  },
  {
   "cell_type": "code",
   "execution_count": 3,
   "id": "fcc3248a",
   "metadata": {
    "execution": {
     "iopub.execute_input": "2022-10-21T05:41:23.248331Z",
     "iopub.status.busy": "2022-10-21T05:41:23.247952Z",
     "iopub.status.idle": "2022-10-21T05:41:23.253706Z",
     "shell.execute_reply": "2022-10-21T05:41:23.252678Z"
    },
    "papermill": {
     "duration": 0.01592,
     "end_time": "2022-10-21T05:41:23.256288",
     "exception": false,
     "start_time": "2022-10-21T05:41:23.240368",
     "status": "completed"
    },
    "tags": []
   },
   "outputs": [
    {
     "name": "stdout",
     "output_type": "stream",
     "text": [
      "1\n",
      "1\n",
      "-3\n",
      "-2\n"
     ]
    }
   ],
   "source": [
    "# Uncomment and run this code to get started!\n",
    "print(int(1.2321))\n",
    "print(int(1.747))\n",
    "print(int(-3.94535))\n",
    "print(int(-2.19774))"
   ]
  },
  {
   "cell_type": "markdown",
   "id": "a830e852",
   "metadata": {
    "papermill": {
     "duration": 0.007618,
     "end_time": "2022-10-21T05:41:23.270225",
     "exception": false,
     "start_time": "2022-10-21T05:41:23.262607",
     "status": "completed"
    },
    "tags": []
   },
   "source": [
    "Once you have an answer, run the code cell below to see the solution.  Viewing the solution will give you credit for answering the problem."
   ]
  },
  {
   "cell_type": "code",
   "execution_count": 4,
   "id": "02322cda",
   "metadata": {
    "execution": {
     "iopub.execute_input": "2022-10-21T05:41:23.284598Z",
     "iopub.status.busy": "2022-10-21T05:41:23.284230Z",
     "iopub.status.idle": "2022-10-21T05:41:23.295373Z",
     "shell.execute_reply": "2022-10-21T05:41:23.294251Z"
    },
    "papermill": {
     "duration": 0.021073,
     "end_time": "2022-10-21T05:41:23.297652",
     "exception": false,
     "start_time": "2022-10-21T05:41:23.276579",
     "status": "completed"
    },
    "tags": []
   },
   "outputs": [
    {
     "data": {
      "application/javascript": [
       "parent.postMessage({\"jupyterEvent\": \"custom.exercise_interaction\", \"data\": {\"outcomeType\": 1, \"valueTowardsCompletion\": 0.2, \"interactionType\": 1, \"questionType\": 4, \"questionId\": \"1_FloatToInt\", \"learnToolsVersion\": \"0.3.4\", \"failureMessage\": \"\", \"exceptionClass\": \"\", \"trace\": \"\"}}, \"*\")"
      ],
      "text/plain": [
       "<IPython.core.display.Javascript object>"
      ]
     },
     "metadata": {},
     "output_type": "display_data"
    },
    {
     "data": {
      "text/markdown": [
       "<span style=\"color:#33cc33\">Correct:</span> \n",
       "\n",
       "Negative floats are always rounded UP to the closest integer (for instance, both -1.1 and -1.9 are rounded up to -1). Positive floats are always rounded DOWN to the closest integer (for instance, 2.1 and 2.9 are rounded down to 2)."
      ],
      "text/plain": [
       "Correct: \n",
       "\n",
       "Negative floats are always rounded UP to the closest integer (for instance, both -1.1 and -1.9 are rounded up to -1). Positive floats are always rounded DOWN to the closest integer (for instance, 2.1 and 2.9 are rounded down to 2)."
      ]
     },
     "metadata": {},
     "output_type": "display_data"
    }
   ],
   "source": [
    "# Check your answer (Run this code cell to receive credit!)\n",
    "q1.check()"
   ]
  },
  {
   "cell_type": "markdown",
   "id": "d8a65b4d",
   "metadata": {
    "papermill": {
     "duration": 0.006349,
     "end_time": "2022-10-21T05:41:23.310880",
     "exception": false,
     "start_time": "2022-10-21T05:41:23.304531",
     "status": "completed"
    },
    "tags": []
   },
   "source": [
    "# Question 2\n",
    "\n",
    "In the tutorial, you learned about booleans (which can take a value of `True` or `False`), in addition to integers, floats, and strings.  For this question, your goal is to determine what happens when you multiply a boolean by any of these data types.  Specifically, \n",
    "- What happens when you multiply an integer or float by `True`?  What happens when you multiply them by `False`?  How does the answer change if the numbers are positive or negative?\n",
    "- What happens when you multiply a string by `True`?  By `False`?\n",
    "\n",
    "Use the next code cell for your investigation. "
   ]
  },
  {
   "cell_type": "code",
   "execution_count": 5,
   "id": "81f2cbc7",
   "metadata": {
    "execution": {
     "iopub.execute_input": "2022-10-21T05:41:23.325430Z",
     "iopub.status.busy": "2022-10-21T05:41:23.325037Z",
     "iopub.status.idle": "2022-10-21T05:41:23.330524Z",
     "shell.execute_reply": "2022-10-21T05:41:23.329498Z"
    },
    "papermill": {
     "duration": 0.015935,
     "end_time": "2022-10-21T05:41:23.333244",
     "exception": false,
     "start_time": "2022-10-21T05:41:23.317309",
     "status": "completed"
    },
    "tags": []
   },
   "outputs": [
    {
     "name": "stdout",
     "output_type": "stream",
     "text": [
      "3\n",
      "-3.1\n",
      "<class 'str'>\n",
      "0\n"
     ]
    }
   ],
   "source": [
    "# Uncomment and run this code to get started!\n",
    "print(3 * True)\n",
    "print(-3.1 * True)\n",
    "print(type(\"abc\" * False))\n",
    "print(len(\"abc\" * False))"
   ]
  },
  {
   "cell_type": "markdown",
   "id": "be7856cf",
   "metadata": {
    "papermill": {
     "duration": 0.00657,
     "end_time": "2022-10-21T05:41:23.346475",
     "exception": false,
     "start_time": "2022-10-21T05:41:23.339905",
     "status": "completed"
    },
    "tags": []
   },
   "source": [
    "Once you have an answer, run the code cell below to see the solution.  Viewing the solution will give you credit for answering the problem."
   ]
  },
  {
   "cell_type": "code",
   "execution_count": 6,
   "id": "f7ab26d8",
   "metadata": {
    "execution": {
     "iopub.execute_input": "2022-10-21T05:41:23.361411Z",
     "iopub.status.busy": "2022-10-21T05:41:23.361060Z",
     "iopub.status.idle": "2022-10-21T05:41:23.368863Z",
     "shell.execute_reply": "2022-10-21T05:41:23.367821Z"
    },
    "papermill": {
     "duration": 0.018117,
     "end_time": "2022-10-21T05:41:23.371168",
     "exception": false,
     "start_time": "2022-10-21T05:41:23.353051",
     "status": "completed"
    },
    "tags": []
   },
   "outputs": [
    {
     "data": {
      "application/javascript": [
       "parent.postMessage({\"jupyterEvent\": \"custom.exercise_interaction\", \"data\": {\"outcomeType\": 1, \"valueTowardsCompletion\": 0.2, \"interactionType\": 1, \"questionType\": 4, \"questionId\": \"2_MultiplyBooleans\", \"learnToolsVersion\": \"0.3.4\", \"failureMessage\": \"\", \"exceptionClass\": \"\", \"trace\": \"\"}}, \"*\")"
      ],
      "text/plain": [
       "<IPython.core.display.Javascript object>"
      ]
     },
     "metadata": {},
     "output_type": "display_data"
    },
    {
     "data": {
      "text/markdown": [
       "<span style=\"color:#33cc33\">Correct:</span> \n",
       "\n",
       "When you multiple an integer or float by a boolean with value `True`, it just returns that same integer or float (and is equivalent to multiplying by 1).  If you multiply an integer or float by a boolean with value `False`, it always returns 0.  This is true for both positive and negative numbers.  If you multiply a string by a boolean with value `True`, it just returns that same string.  And if you multiply a string by a boolean with value `False`, it returns an empty string (or a string with length zero)."
      ],
      "text/plain": [
       "Correct: \n",
       "\n",
       "When you multiple an integer or float by a boolean with value `True`, it just returns that same integer or float (and is equivalent to multiplying by 1).  If you multiply an integer or float by a boolean with value `False`, it always returns 0.  This is true for both positive and negative numbers.  If you multiply a string by a boolean with value `True`, it just returns that same string.  And if you multiply a string by a boolean with value `False`, it returns an empty string (or a string with length zero)."
      ]
     },
     "metadata": {},
     "output_type": "display_data"
    }
   ],
   "source": [
    "# Check your answer (Run this code cell to receive credit!)\n",
    "q2.check()"
   ]
  },
  {
   "cell_type": "markdown",
   "id": "a30f76ea",
   "metadata": {
    "papermill": {
     "duration": 0.006901,
     "end_time": "2022-10-21T05:41:23.384885",
     "exception": false,
     "start_time": "2022-10-21T05:41:23.377984",
     "status": "completed"
    },
    "tags": []
   },
   "source": [
    "# Question 3\n",
    "\n",
    "In this question, you will build off your work from the previous exercise to write a function that estimates the value of a house.\n",
    "\n",
    "Use the next code cell to create a function `get_expected_cost` that takes as input three variables:\n",
    "- `beds` - number of bedrooms (data type float)\n",
    "- `baths` - number of bathrooms (data type float)\n",
    "- `has_basement` - whether or not the house has a basement (data type boolean)\n",
    "\n",
    "It should return the expected cost of a house with those characteristics. Assume that:\n",
    "- the expected cost for a house with 0 bedrooms and 0 bathrooms, and no basement is 80000, \n",
    "- each bedroom adds 30000 to the expected cost,\n",
    "- each bathroom adds 10000 to the expected cost, and\n",
    "- a basement adds 40000 to the expected cost.\n",
    "\n",
    "For instance,\n",
    "- a house with 1 bedroom, 1 bathroom, and no basement has an expected cost of 80000 + 30000 + 10000 = 120000.  This value will be calculated with `get_expected_cost(1, 1, False)`.\n",
    "- a house with 2 bedrooms, 1 bathroom, and a basement has an expected cost of 80000 + 2*30000 + 10000 + 40000 = 190000.  This value will be calculated with `get_expected_cost(2, 1, True)`.\n",
    "\n",
    "Remember you can always get a hint by uncommenting `q3.hint()` in the code cell following the next!"
   ]
  },
  {
   "cell_type": "code",
   "execution_count": 7,
   "id": "9e8b9efa",
   "metadata": {
    "execution": {
     "iopub.execute_input": "2022-10-21T05:41:23.400658Z",
     "iopub.status.busy": "2022-10-21T05:41:23.400285Z",
     "iopub.status.idle": "2022-10-21T05:41:23.410145Z",
     "shell.execute_reply": "2022-10-21T05:41:23.409073Z"
    },
    "papermill": {
     "duration": 0.020174,
     "end_time": "2022-10-21T05:41:23.412097",
     "exception": false,
     "start_time": "2022-10-21T05:41:23.391923",
     "status": "completed"
    },
    "tags": []
   },
   "outputs": [
    {
     "data": {
      "application/javascript": [
       "parent.postMessage({\"jupyterEvent\": \"custom.exercise_interaction\", \"data\": {\"outcomeType\": 1, \"valueTowardsCompletion\": 0.2, \"interactionType\": 1, \"questionType\": 2, \"questionId\": \"3_EstimateHouseValueBool\", \"learnToolsVersion\": \"0.3.4\", \"failureMessage\": \"\", \"exceptionClass\": \"\", \"trace\": \"\"}}, \"*\")"
      ],
      "text/plain": [
       "<IPython.core.display.Javascript object>"
      ]
     },
     "metadata": {},
     "output_type": "display_data"
    },
    {
     "data": {
      "text/markdown": [
       "<span style=\"color:#33cc33\">Correct</span>"
      ],
      "text/plain": [
       "Correct"
      ]
     },
     "metadata": {},
     "output_type": "display_data"
    }
   ],
   "source": [
    "# TODO: Complete the function\n",
    "def get_expected_cost(beds, baths, has_basement):\n",
    "    value =80000+(beds*30000)+(baths*10000)+40000*has_basement\n",
    "    \n",
    "    return value\n",
    "\n",
    "# Check your answer \n",
    "q3.check()"
   ]
  },
  {
   "cell_type": "code",
   "execution_count": 8,
   "id": "0a53b209",
   "metadata": {
    "execution": {
     "iopub.execute_input": "2022-10-21T05:41:23.427542Z",
     "iopub.status.busy": "2022-10-21T05:41:23.427182Z",
     "iopub.status.idle": "2022-10-21T05:41:23.431028Z",
     "shell.execute_reply": "2022-10-21T05:41:23.430308Z"
    },
    "papermill": {
     "duration": 0.013599,
     "end_time": "2022-10-21T05:41:23.432787",
     "exception": false,
     "start_time": "2022-10-21T05:41:23.419188",
     "status": "completed"
    },
    "tags": []
   },
   "outputs": [],
   "source": [
    "# Uncomment to see a hint\n",
    "#q3.hint()\n",
    "\n",
    "# Uncomment to view the solution\n",
    "#q3.solution()"
   ]
  },
  {
   "cell_type": "markdown",
   "id": "88cf5820",
   "metadata": {
    "papermill": {
     "duration": 0.006738,
     "end_time": "2022-10-21T05:41:23.446221",
     "exception": false,
     "start_time": "2022-10-21T05:41:23.439483",
     "status": "completed"
    },
    "tags": []
   },
   "source": [
    "# Question 4\n",
    "\n",
    "We'll continue our study of boolean arithmetic.  For this question, your task is to provide a description of what happpens when you add booleans. \n",
    "\n",
    "Use the next code cell for your investigation.  Feel free to add or remove any lines of code - use it as your workspace!"
   ]
  },
  {
   "cell_type": "code",
   "execution_count": 9,
   "id": "0d8e4ce9",
   "metadata": {
    "execution": {
     "iopub.execute_input": "2022-10-21T05:41:23.461657Z",
     "iopub.status.busy": "2022-10-21T05:41:23.461246Z",
     "iopub.status.idle": "2022-10-21T05:41:23.467368Z",
     "shell.execute_reply": "2022-10-21T05:41:23.466167Z"
    },
    "papermill": {
     "duration": 0.017634,
     "end_time": "2022-10-21T05:41:23.470856",
     "exception": false,
     "start_time": "2022-10-21T05:41:23.453222",
     "status": "completed"
    },
    "tags": []
   },
   "outputs": [
    {
     "name": "stdout",
     "output_type": "stream",
     "text": [
      "0\n",
      "1\n",
      "1\n",
      "2\n",
      "3\n"
     ]
    }
   ],
   "source": [
    "print(False + False)\n",
    "print(True + False)\n",
    "print(False + True)\n",
    "print(True + True)\n",
    "print(False + True + True + True)"
   ]
  },
  {
   "cell_type": "markdown",
   "id": "7b016613",
   "metadata": {
    "papermill": {
     "duration": 0.007018,
     "end_time": "2022-10-21T05:41:23.485232",
     "exception": false,
     "start_time": "2022-10-21T05:41:23.478214",
     "status": "completed"
    },
    "tags": []
   },
   "source": [
    "Once you have an answer, run the code cell below to see the solution.  Viewing the solution will give you credit for answering the problem."
   ]
  },
  {
   "cell_type": "code",
   "execution_count": 10,
   "id": "3170b76b",
   "metadata": {
    "execution": {
     "iopub.execute_input": "2022-10-21T05:41:23.501402Z",
     "iopub.status.busy": "2022-10-21T05:41:23.500692Z",
     "iopub.status.idle": "2022-10-21T05:41:23.507744Z",
     "shell.execute_reply": "2022-10-21T05:41:23.506979Z"
    },
    "papermill": {
     "duration": 0.017499,
     "end_time": "2022-10-21T05:41:23.509775",
     "exception": false,
     "start_time": "2022-10-21T05:41:23.492276",
     "status": "completed"
    },
    "tags": []
   },
   "outputs": [
    {
     "data": {
      "application/javascript": [
       "parent.postMessage({\"jupyterEvent\": \"custom.exercise_interaction\", \"data\": {\"outcomeType\": 1, \"valueTowardsCompletion\": 0.2, \"interactionType\": 1, \"questionType\": 4, \"questionId\": \"4_AddingBooleans\", \"learnToolsVersion\": \"0.3.4\", \"failureMessage\": \"\", \"exceptionClass\": \"\", \"trace\": \"\"}}, \"*\")"
      ],
      "text/plain": [
       "<IPython.core.display.Javascript object>"
      ]
     },
     "metadata": {},
     "output_type": "display_data"
    },
    {
     "data": {
      "text/markdown": [
       "<span style=\"color:#33cc33\">Correct:</span> \n",
       "\n",
       "When you add booleans, adding `False` is equivalent to adding 0, and adding `True` is equivalent to adding 1."
      ],
      "text/plain": [
       "Correct: \n",
       "\n",
       "When you add booleans, adding `False` is equivalent to adding 0, and adding `True` is equivalent to adding 1."
      ]
     },
     "metadata": {},
     "output_type": "display_data"
    }
   ],
   "source": [
    "# Check your answer (Run this code cell to receive credit!)\n",
    "q4.check()"
   ]
  },
  {
   "cell_type": "markdown",
   "id": "46dc4b09",
   "metadata": {
    "papermill": {
     "duration": 0.007109,
     "end_time": "2022-10-21T05:41:23.524202",
     "exception": false,
     "start_time": "2022-10-21T05:41:23.517093",
     "status": "completed"
    },
    "tags": []
   },
   "source": [
    "# 🌶️ Question 5\n",
    "\n",
    "You own an online shop where you sell rings with custom engravings.  You offer both gold plated and solid gold rings.\n",
    "- Gold plated rings have a base cost of \\\\$50, and you charge \\\\$7 per engraved unit.  \n",
    "- Solid gold rings have a base cost of \\\\$100, and you charge \\\\$10 per engraved unit.\n",
    "- Spaces and punctuation are counted as engraved units.\n",
    "\n",
    "Write a function `cost_of_project()` that takes two arguments:\n",
    "- `engraving` - a Python string with the text of the engraving\n",
    "- `solid_gold` - a Boolean that indicates whether the ring is solid gold\n",
    "\n",
    "It should return the cost of the project.  This question should be fairly challenging, and you may need a hint."
   ]
  },
  {
   "cell_type": "code",
   "execution_count": 11,
   "id": "2fb20cd7",
   "metadata": {
    "execution": {
     "iopub.execute_input": "2022-10-21T05:41:23.540827Z",
     "iopub.status.busy": "2022-10-21T05:41:23.540039Z",
     "iopub.status.idle": "2022-10-21T05:41:23.548492Z",
     "shell.execute_reply": "2022-10-21T05:41:23.547696Z"
    },
    "papermill": {
     "duration": 0.019211,
     "end_time": "2022-10-21T05:41:23.550517",
     "exception": false,
     "start_time": "2022-10-21T05:41:23.531306",
     "status": "completed"
    },
    "tags": []
   },
   "outputs": [
    {
     "data": {
      "application/javascript": [
       "parent.postMessage({\"jupyterEvent\": \"custom.exercise_interaction\", \"data\": {\"outcomeType\": 1, \"valueTowardsCompletion\": 0.2, \"interactionType\": 1, \"questionType\": 2, \"questionId\": \"5_CustomEngravings\", \"learnToolsVersion\": \"0.3.4\", \"failureMessage\": \"\", \"exceptionClass\": \"\", \"trace\": \"\"}}, \"*\")"
      ],
      "text/plain": [
       "<IPython.core.display.Javascript object>"
      ]
     },
     "metadata": {},
     "output_type": "display_data"
    },
    {
     "data": {
      "text/markdown": [
       "<span style=\"color:#33cc33\">Correct</span>"
      ],
      "text/plain": [
       "Correct"
      ]
     },
     "metadata": {},
     "output_type": "display_data"
    }
   ],
   "source": [
    "def cost_of_project(engraving, solid_gold):\n",
    "    cost = solid_gold*(100+10*len(engraving))+ (not solid_gold)*(50+7*len(engraving))\n",
    "    return cost\n",
    "\n",
    "# Check your answer\n",
    "q5.check()"
   ]
  },
  {
   "cell_type": "code",
   "execution_count": 12,
   "id": "10f66986",
   "metadata": {
    "execution": {
     "iopub.execute_input": "2022-10-21T05:41:23.567518Z",
     "iopub.status.busy": "2022-10-21T05:41:23.567130Z",
     "iopub.status.idle": "2022-10-21T05:41:23.580721Z",
     "shell.execute_reply": "2022-10-21T05:41:23.579457Z"
    },
    "papermill": {
     "duration": 0.024674,
     "end_time": "2022-10-21T05:41:23.582947",
     "exception": false,
     "start_time": "2022-10-21T05:41:23.558273",
     "status": "completed"
    },
    "tags": []
   },
   "outputs": [
    {
     "data": {
      "application/javascript": [
       "parent.postMessage({\"jupyterEvent\": \"custom.exercise_interaction\", \"data\": {\"interactionType\": 2, \"questionType\": 2, \"questionId\": \"5_CustomEngravings\", \"learnToolsVersion\": \"0.3.4\", \"valueTowardsCompletion\": 0.0, \"failureMessage\": \"\", \"exceptionClass\": \"\", \"trace\": \"\", \"outcomeType\": 4}}, \"*\")"
      ],
      "text/plain": [
       "<IPython.core.display.Javascript object>"
      ]
     },
     "metadata": {},
     "output_type": "display_data"
    },
    {
     "data": {
      "text/markdown": [
       "<span style=\"color:#3366cc\">Hint:</span> There are two options - either the project uses solid gold or does not.  With this in mind, you can structure your solution like this: `cost = solid_gold * ____ + (not_solid_gold) * ____`.  You need to figure out how to fill in the blanks. Also, remember that:\n",
       "- If `solid_gold = True`, then `(not solid_gold) = False`, and if `solid_gold = False`, then `(not solid_gold) = True`.\n",
       "- Multiplying an integer by `True` is equivalent to multiplying it by 1, and multiplying an integer by `False` is equivalent to multiplying it by 0."
      ],
      "text/plain": [
       "Hint: There are two options - either the project uses solid gold or does not.  With this in mind, you can structure your solution like this: `cost = solid_gold * ____ + (not_solid_gold) * ____`.  You need to figure out how to fill in the blanks. Also, remember that:\n",
       "- If `solid_gold = True`, then `(not solid_gold) = False`, and if `solid_gold = False`, then `(not solid_gold) = True`.\n",
       "- Multiplying an integer by `True` is equivalent to multiplying it by 1, and multiplying an integer by `False` is equivalent to multiplying it by 0."
      ]
     },
     "metadata": {},
     "output_type": "display_data"
    },
    {
     "data": {
      "application/javascript": [
       "parent.postMessage({\"jupyterEvent\": \"custom.exercise_interaction\", \"data\": {\"interactionType\": 3, \"questionType\": 2, \"questionId\": \"5_CustomEngravings\", \"learnToolsVersion\": \"0.3.4\", \"valueTowardsCompletion\": 0.0, \"failureMessage\": \"\", \"exceptionClass\": \"\", \"trace\": \"\", \"outcomeType\": 4}}, \"*\")"
      ],
      "text/plain": [
       "<IPython.core.display.Javascript object>"
      ]
     },
     "metadata": {},
     "output_type": "display_data"
    },
    {
     "data": {
      "text/markdown": [
       "<span style=\"color:#33cc99\">Solution:</span> \n",
       "```python\n",
       "def cost_of_project(engraving, solid_gold):\n",
       "    cost = solid_gold * (100 + 10 * len(engraving)) + (not solid_gold) * (50 + 7 * len(engraving))\n",
       "    return cost\n",
       "\n",
       "```"
      ],
      "text/plain": [
       "Solution: \n",
       "```python\n",
       "def cost_of_project(engraving, solid_gold):\n",
       "    cost = solid_gold * (100 + 10 * len(engraving)) + (not solid_gold) * (50 + 7 * len(engraving))\n",
       "    return cost\n",
       "\n",
       "```"
      ]
     },
     "metadata": {},
     "output_type": "display_data"
    }
   ],
   "source": [
    "# Uncomment to see a hint\n",
    "q5.hint()\n",
    "\n",
    "# Uncomment to view the solution\n",
    "q5.solution()"
   ]
  },
  {
   "cell_type": "markdown",
   "id": "4296b561",
   "metadata": {
    "papermill": {
     "duration": 0.00766,
     "end_time": "2022-10-21T05:41:23.598771",
     "exception": false,
     "start_time": "2022-10-21T05:41:23.591111",
     "status": "completed"
    },
    "tags": []
   },
   "source": [
    "Run the next code cell to calculate the cost of engraving `Charlie+Denver` on a solid gold ring."
   ]
  },
  {
   "cell_type": "code",
   "execution_count": 13,
   "id": "8d8f2a76",
   "metadata": {
    "execution": {
     "iopub.execute_input": "2022-10-21T05:41:23.617314Z",
     "iopub.status.busy": "2022-10-21T05:41:23.616627Z",
     "iopub.status.idle": "2022-10-21T05:41:23.622424Z",
     "shell.execute_reply": "2022-10-21T05:41:23.620989Z"
    },
    "papermill": {
     "duration": 0.017984,
     "end_time": "2022-10-21T05:41:23.624817",
     "exception": false,
     "start_time": "2022-10-21T05:41:23.606833",
     "status": "completed"
    },
    "tags": []
   },
   "outputs": [
    {
     "name": "stdout",
     "output_type": "stream",
     "text": [
      "240\n"
     ]
    }
   ],
   "source": [
    "project_one = cost_of_project(\"Charlie+Denver\", True)\n",
    "print(project_one)"
   ]
  },
  {
   "cell_type": "markdown",
   "id": "a3427616",
   "metadata": {
    "papermill": {
     "duration": 0.009096,
     "end_time": "2022-10-21T05:41:23.642375",
     "exception": false,
     "start_time": "2022-10-21T05:41:23.633279",
     "status": "completed"
    },
    "tags": []
   },
   "source": [
    "Use the next code cell to calculate the cost of engraving `08/10/2000` on a gold plated ring."
   ]
  },
  {
   "cell_type": "code",
   "execution_count": 14,
   "id": "b7348e7a",
   "metadata": {
    "execution": {
     "iopub.execute_input": "2022-10-21T05:41:23.660981Z",
     "iopub.status.busy": "2022-10-21T05:41:23.660343Z",
     "iopub.status.idle": "2022-10-21T05:41:23.665357Z",
     "shell.execute_reply": "2022-10-21T05:41:23.664235Z"
    },
    "papermill": {
     "duration": 0.016547,
     "end_time": "2022-10-21T05:41:23.667250",
     "exception": false,
     "start_time": "2022-10-21T05:41:23.650703",
     "status": "completed"
    },
    "tags": []
   },
   "outputs": [
    {
     "name": "stdout",
     "output_type": "stream",
     "text": [
      "120\n"
     ]
    }
   ],
   "source": [
    "project_two = cost_of_project(\"08/10/2000\", False)\n",
    "print(project_two)"
   ]
  },
  {
   "cell_type": "markdown",
   "id": "935ffc65",
   "metadata": {
    "papermill": {
     "duration": 0.007961,
     "end_time": "2022-10-21T05:41:23.683440",
     "exception": false,
     "start_time": "2022-10-21T05:41:23.675479",
     "status": "completed"
    },
    "tags": []
   },
   "source": [
    "# Keep going\n",
    "\n",
    "Continue to the next lesson to **[learn about conditions and conditional statements](https://www.kaggle.com/alexisbcook/conditions-and-conditional-statements)**."
   ]
  },
  {
   "cell_type": "markdown",
   "id": "f6dc011f",
   "metadata": {
    "papermill": {
     "duration": 0.007851,
     "end_time": "2022-10-21T05:41:23.699516",
     "exception": false,
     "start_time": "2022-10-21T05:41:23.691665",
     "status": "completed"
    },
    "tags": []
   },
   "source": [
    "---\n",
    "\n",
    "\n",
    "\n",
    "\n",
    "*Have questions or comments? Visit the [course discussion forum](https://www.kaggle.com/learn/intro-to-programming/discussion) to chat with other learners.*"
   ]
  }
 ],
 "metadata": {
  "kernelspec": {
   "display_name": "Python 3",
   "language": "python",
   "name": "python3"
  },
  "language_info": {
   "codemirror_mode": {
    "name": "ipython",
    "version": 3
   },
   "file_extension": ".py",
   "mimetype": "text/x-python",
   "name": "python",
   "nbconvert_exporter": "python",
   "pygments_lexer": "ipython3",
   "version": "3.7.12"
  },
  "papermill": {
   "default_parameters": {},
   "duration": 9.572396,
   "end_time": "2022-10-21T05:41:24.327737",
   "environment_variables": {},
   "exception": null,
   "input_path": "__notebook__.ipynb",
   "output_path": "__notebook__.ipynb",
   "parameters": {},
   "start_time": "2022-10-21T05:41:14.755341",
   "version": "2.3.4"
  }
 },
 "nbformat": 4,
 "nbformat_minor": 5
}
